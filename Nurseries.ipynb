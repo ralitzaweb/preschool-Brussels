{
 "cells": [
  {
   "attachments": {},
   "cell_type": "markdown",
   "metadata": {},
   "source": [
    "# Capstone Project - The Battle of Neighborhoods (Week 1)\n"
   ]
  },
  {
   "cell_type": "markdown",
   "metadata": {},
   "source": [
    "## Optimal location for new pre-schools in Brussels?"
   ]
  },
  {
   "cell_type": "markdown",
   "metadata": {},
   "source": [
    "## A description of the problem and a discussion of the background"
   ]
  },
  {
   "cell_type": "markdown",
   "metadata": {},
   "source": [
    "The city of Brussels (capital of Belgium) has a severe lack of places in pre-schools (kids under 3 years old). \n",
    "<br>\n",
    "In November 2019 only 31,9 places were available per 100 kids aged under 3. \n",
    "<br>\n",
    "       [Data from national kids office – ONE](https://www.rtbf.be/info/societe/detail_la-galere-pour-trouver-une-creche-36-places-pour-100-bebes-en-wallonie-et-a-bruxelles-infographie?id=10365003) \n",
    "<br>\n",
    "\n",
    "Every year thousands of parents struggle to find a place for their baby. Therefore new facilitees are needed. \n",
    "\n",
    "   [Source La Capitale ](https://www.lacapitale.be/318381/article/2018-12-08/la-creation-de-creches-bruxelles-pris-du-retard)\n",
    "   <br>\n",
    "   [Source La libre](https://www.lalibre.be/economie/entreprises-startup/deux-bebes-sur-trois-n-arrivent-pas-a-trouver-une-place-en-creche-a-bruxelles-ou-est-le-probleme-et-comment-le-solutionner-591eba9acd70022542e8d9ad)\n",
    "\n",
    "\n",
    "\n"
   ]
  },
  {
   "cell_type": "markdown",
   "metadata": {},
   "source": [
    "## Target audience "
   ]
  },
  {
   "cell_type": "markdown",
   "metadata": {},
   "source": [
    "The client who ordered a study is a local business owner who has decided to open a new pre-school in Brussels. \n",
    "The question she submitted for analysis is the best location for the new facility. \n",
    "\n",
    "With our analysis we aim to build a list of the 10 best places for a new facility based on the analysis of the places that have both a poor curent rate of preschools and a high rate of kids under the age of 3.    "
   ]
  },
  {
   "cell_type": "markdown",
   "metadata": {},
   "source": [
    "# Data that will be used"
   ]
  },
  {
   "attachments": {},
   "cell_type": "markdown",
   "metadata": {},
   "source": [
    "The primary source of data will be found on Foursquare. \n",
    "<br>\n",
    "The following information will be extracted - currently available pre-schools in the city of Brussels with their address and neighborhood. \n",
    "\n",
    "It will be complemented with data on population of the city available via the Brussels official open data database https://opendata.bruxelles.be/\n",
    "The following databases will be used : \n",
    "    - share of kids under 3 years old in different neighborhoods (number of kids, proportion of < 3 years in general population) \n",
    "    - share of 18-44 years old (most likely to become new parents) \n",
    "    - location of existing preschools \n",
    "    - total number of places in pre-school peer school and neighborhood. \n",
    "\n",
    "Neighborhoods  will be divided in clusters corresponding to the number of kids and available places in pre-schools. That will give as the possibility to identify the location with bigger need of new pre-schools. \n",
    "Recomandations for new locations will be done on the basis of the analysis.\n"
   ]
  },
  {
   "cell_type": "code",
   "execution_count": null,
   "metadata": {},
   "outputs": [],
   "source": [
    "\n"
   ]
  }
 ],
 "metadata": {
  "kernelspec": {
   "display_name": "Python 3",
   "language": "python",
   "name": "python3"
  },
  "language_info": {
   "codemirror_mode": {
    "name": "ipython",
    "version": 3
   },
   "file_extension": ".py",
   "mimetype": "text/x-python",
   "name": "python",
   "nbconvert_exporter": "python",
   "pygments_lexer": "ipython3",
   "version": "3.7.6"
  }
 },
 "nbformat": 4,
 "nbformat_minor": 4
}
